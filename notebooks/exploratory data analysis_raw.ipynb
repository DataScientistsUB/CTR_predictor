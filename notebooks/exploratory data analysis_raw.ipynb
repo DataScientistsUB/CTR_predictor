{
 "cells": [
  {
   "cell_type": "markdown",
   "metadata": {},
   "source": [
    "*Material adapted from: http://stanford.edu/~mwaskom/software/seaborn/tutorial/distributions.html*\n",
    "\n",
    "February, 2016"
   ]
  },
  {
   "cell_type": "markdown",
   "metadata": {},
   "source": [
    "#EXPLORATORY DATA ANALYSIS\n",
    "\n",
    "This notebook's main goal is to get acquaintaced with the data.\n",
    "\n",
    "The process of selecting model and function are explained throughout the notebook. "
   ]
  },
  {
   "cell_type": "markdown",
   "metadata": {},
   "source": [
    "###IMPORT PACKAGES\n",
    "\n",
    "Let's import packages used in this notebook:"
   ]
  },
  {
   "cell_type": "code",
   "execution_count": null,
   "metadata": {
    "collapsed": false
   },
   "outputs": [],
   "source": [
    "import pandas as pd\n",
    "import numpy as np\n",
    "import seaborn as sns"
   ]
  },
  {
   "cell_type": "code",
   "execution_count": null,
   "metadata": {
    "collapsed": false
   },
   "outputs": [],
   "source": [
    "#VISUALIZATION\n",
    "%matplotlib inline\n",
    "import matplotlib.pyplot as plt"
   ]
  },
  {
   "cell_type": "markdown",
   "metadata": {},
   "source": [
    "###IMPORT DATA\n",
    "\n",
    "So first, we import the file \"raw.csv\", that contains the data provided for this project."
   ]
  },
  {
   "cell_type": "code",
   "execution_count": null,
   "metadata": {
    "collapsed": false
   },
   "outputs": [],
   "source": [
    "#Use panda to import csv\n",
    "data = pd.read_csv('raw.csv', sep=';')\n",
    "print data.columns.values\n",
    "\n",
    "#Column 0 includes ad_ref. Column 1 refers to outcome (0= no click, 1=click)\n",
    "data[:].loc[0:5]"
   ]
  },
  {
   "cell_type": "markdown",
   "metadata": {},
   "source": [
    "The first column corresponds to ref of register. Let's import again but using this first column as \"row\" names."
   ]
  },
  {
   "cell_type": "code",
   "execution_count": null,
   "metadata": {
    "collapsed": false
   },
   "outputs": [],
   "source": [
    "#Import again, first column is row names\n",
    "data = pd.read_csv('raw.csv', index_col = 0, sep=';')\n",
    "data[:][0:5]"
   ]
  },
  {
   "cell_type": "markdown",
   "metadata": {},
   "source": [
    "Let's look at the values of first register"
   ]
  },
  {
   "cell_type": "code",
   "execution_count": null,
   "metadata": {
    "collapsed": false
   },
   "outputs": [],
   "source": [
    "data.loc[0]"
   ]
  },
  {
   "cell_type": "markdown",
   "metadata": {
    "collapsed": false
   },
   "source": [
    "There are several columns that contain dates. Let's check them:"
   ]
  },
  {
   "cell_type": "code",
   "execution_count": null,
   "metadata": {
    "collapsed": false
   },
   "outputs": [],
   "source": [
    "data[[\"check_in\",\"check_out\",\"ts\"]].loc[0]"
   ]
  },
  {
   "cell_type": "code",
   "execution_count": null,
   "metadata": {
    "collapsed": false
   },
   "outputs": [],
   "source": [
    "print(\"Type of 'check_in': \")\n",
    "print(type(data[\"check_in\"].loc[0]))"
   ]
  },
  {
   "cell_type": "markdown",
   "metadata": {},
   "source": [
    "So... they imported as text. Let's try to import them as data:"
   ]
  },
  {
   "cell_type": "code",
   "execution_count": null,
   "metadata": {
    "collapsed": false,
    "scrolled": true
   },
   "outputs": [],
   "source": [
    "#Use panda to import csv\n",
    "data = pd.read_csv('raw.csv', sep=';', parse_dates=[\"check_in\",\"check_out\",\"ts\"])\n",
    "print data.columns.values\n",
    "data[:].loc[0:5]"
   ]
  },
  {
   "cell_type": "markdown",
   "metadata": {},
   "source": [
    "We see it imported ok. Let's check type is date:"
   ]
  },
  {
   "cell_type": "code",
   "execution_count": null,
   "metadata": {
    "collapsed": false
   },
   "outputs": [],
   "source": [
    "print(\"Type of 'check_in': \")\n",
    "print(type(data[\"check_in\"].loc[0]))"
   ]
  },
  {
   "cell_type": "markdown",
   "metadata": {},
   "source": [
    "It's a success!\n",
    "\n",
    "Now let's import the labels:"
   ]
  },
  {
   "cell_type": "code",
   "execution_count": null,
   "metadata": {
    "collapsed": false
   },
   "outputs": [],
   "source": [
    "#ONLY ONE MODEL\n",
    "label = pd.read_csv('outcome.csv', sep=';', names=[\"y\"])\n",
    "data[\"y\"]=label[\"y\"].loc[:]"
   ]
  },
  {
   "cell_type": "markdown",
   "metadata": {},
   "source": [
    "Now let's play a little bit. First, shape of the dataframe:"
   ]
  },
  {
   "cell_type": "code",
   "execution_count": null,
   "metadata": {
    "collapsed": false
   },
   "outputs": [],
   "source": [
    "print data.shape\n",
    "print (type(data))"
   ]
  },
  {
   "cell_type": "code",
   "execution_count": null,
   "metadata": {
    "collapsed": false
   },
   "outputs": [],
   "source": [
    "data.loc[0]"
   ]
  },
  {
   "cell_type": "markdown",
   "metadata": {},
   "source": [
    "We have a panda's dataframe, 681314 cases and 17 features + 1 label. \n",
    "\n",
    "##Which features to check?\n",
    "\n",
    "##Number of  adults per booking\n",
    "Let's begin looking at profile of bookings:\n"
   ]
  },
  {
   "cell_type": "code",
   "execution_count": null,
   "metadata": {
    "collapsed": true
   },
   "outputs": [],
   "source": []
  },
  {
   "cell_type": "code",
   "execution_count": null,
   "metadata": {
    "collapsed": false
   },
   "outputs": [],
   "source": [
    "#Let's plot the number of adults per booking\n",
    "\n",
    "plt.hist(data[\"adults\"])\n",
    "plt.title(\"Number of adults\")\n",
    "plt.xlabel(\"Number of adults\")\n",
    "plt.ylabel(\"#cases\")\n",
    "plt.show()"
   ]
  },
  {
   "cell_type": "markdown",
   "metadata": {
    "collapsed": true
   },
   "source": [
    "I think it might be interesting to check behaviour of bookings depending if its a family or not.\n",
    "Price: let's keep the price per night and per person  (ppnp)\n",
    "\n",
    "First let's get a copy of the data:"
   ]
  },
  {
   "cell_type": "code",
   "execution_count": null,
   "metadata": {
    "collapsed": false
   },
   "outputs": [],
   "source": [
    "data_2 = data[['adults','children','adv','stay','y']].loc[:]\n",
    "data_2[\"ppnp\"]=(data['price'])/((data['adults']+data['children'])*data['stay'])\n",
    "data_2[:].loc[0]"
   ]
  },
  {
   "cell_type": "markdown",
   "metadata": {},
   "source": [
    "I want to check if couples, families and solo bookings behave the same...\n",
    "So, I will create a column where 1= solo, 2=couple and 3= family, 0= anything else.\n",
    "I also want to check total number of people."
   ]
  },
  {
   "cell_type": "code",
   "execution_count": null,
   "metadata": {
    "collapsed": false
   },
   "outputs": [],
   "source": [
    "data_2[\"is_family\"] =  data_2['children']!=0.0\n",
    "data_2[\"no_children\"]=data_2['children']==0.0\n",
    "data_2[\"is_couple\"]= (data_2['adults']==2.0)*data_2[\"no_children\"] \n",
    "data_2[\"is_solo\"]= data_2['adults']==1.0*data_2[\"no_children\"]\n",
    "data_2[\"is_group\"] = (data_2['adults']>2.0)*data_2[\"no_children\"]\n",
    "\n",
    "data_2[\"type\"]= 4*data_2[\"is_group\"] +1*data_2[\"is_solo\"] + 2*data_2[\"is_couple\"] + 3*data_2[\"is_family\"] \n",
    "data_2[\"people\"]=data_2[\"adults\"] + data_2[\"children\"]\n",
    "\n",
    "#Let's plot the number of each kind\n",
    "\n",
    "plt.hist(data_2[\"type\"], bins=20)\n",
    "plt.title(\"Bookings by type: 1=solo, 2= couple, 3= family, 4=group\")\n",
    "plt.xlabel(\"Type\")\n",
    "plt.ylabel(\"#cases\")\n",
    "plt.show()"
   ]
  },
  {
   "cell_type": "markdown",
   "metadata": {},
   "source": [
    "Let's drop de data we won't use:"
   ]
  },
  {
   "cell_type": "code",
   "execution_count": null,
   "metadata": {
    "collapsed": false
   },
   "outputs": [],
   "source": [
    "del data_2[\"is_couple\"]\n",
    "del data_2[\"is_family\"]\n",
    "del data_2[\"is_solo\"]\n",
    "del data_2[\"children\"]\n",
    "del data_2[\"adults\"]\n",
    "del data_2[\"no_children\"]\n",
    "\n",
    "data_2[0:5][:]"
   ]
  },
  {
   "cell_type": "code",
   "execution_count": null,
   "metadata": {
    "collapsed": false
   },
   "outputs": [],
   "source": [
    "sns.stripplot(x=\"type\", y=\"ppnp\", data=data_2[:], jitter=True);"
   ]
  },
  {
   "cell_type": "markdown",
   "metadata": {},
   "source": [
    "There seems to be a very pricey booking that prevents me to see the distribution. Let's exclude it:"
   ]
  },
  {
   "cell_type": "code",
   "execution_count": null,
   "metadata": {
    "collapsed": false
   },
   "outputs": [],
   "source": [
    "\n",
    "price = data_2[\"ppnp\"]\n",
    "print(price.quantile(q=0.999))"
   ]
  },
  {
   "cell_type": "code",
   "execution_count": null,
   "metadata": {
    "collapsed": false
   },
   "outputs": [],
   "source": [
    "price = data_2[\"ppnp\"].loc[:]\n",
    "sns.stripplot(x=\"type\", y=\"ppnp\", data=data_2[:].loc[price < 1000], jitter=True)"
   ]
  },
  {
   "cell_type": "markdown",
   "metadata": {},
   "source": [
    "Let's see if it relates to click:"
   ]
  },
  {
   "cell_type": "code",
   "execution_count": null,
   "metadata": {
    "collapsed": false
   },
   "outputs": [],
   "source": [
    "sns.stripplot(x=\"type\", y=\"ppnp\", data=data_2[:].loc[price <1000], jitter=True, hue=\"y\")"
   ]
  },
  {
   "cell_type": "markdown",
   "metadata": {},
   "source": [
    "Now let's see about distributions:\n"
   ]
  },
  {
   "cell_type": "code",
   "execution_count": null,
   "metadata": {
    "collapsed": false
   },
   "outputs": [],
   "source": [
    "sns.violinplot(x=\"type\", y=\"ppnp\", hue=\"y\", data=data_2[:].loc[price<1000], split=True);"
   ]
  },
  {
   "cell_type": "markdown",
   "metadata": {},
   "source": [
    "I think most of data is under 200. Let's check:"
   ]
  },
  {
   "cell_type": "code",
   "execution_count": null,
   "metadata": {
    "collapsed": false
   },
   "outputs": [],
   "source": [
    "print(price.quantile(q=0.95))"
   ]
  },
  {
   "cell_type": "code",
   "execution_count": null,
   "metadata": {
    "collapsed": false
   },
   "outputs": [],
   "source": [
    "sns.violinplot(x=\"type\", y=\"ppnp\", hue=\"y\", data=data_2[:].loc[price<100], split=True);"
   ]
  },
  {
   "cell_type": "markdown",
   "metadata": {},
   "source": [
    "Let's see if price and previous days impact click. First all data:"
   ]
  },
  {
   "cell_type": "code",
   "execution_count": null,
   "metadata": {
    "collapsed": false
   },
   "outputs": [],
   "source": [
    "sns.jointplot(x=\"adv\", y=\"ppnp\",data=data_2[:].loc[:]);"
   ]
  },
  {
   "cell_type": "markdown",
   "metadata": {},
   "source": [
    "Now we will separate click /no click"
   ]
  },
  {
   "cell_type": "code",
   "execution_count": null,
   "metadata": {
    "collapsed": false
   },
   "outputs": [],
   "source": [
    "click = data_2[\"y\"].loc[:]\n",
    "print(\"CLICK=1\")\n",
    "sns.jointplot(x=\"adv\", y=\"ppnp\",data=data_2[click==1].loc[:]);"
   ]
  },
  {
   "cell_type": "code",
   "execution_count": null,
   "metadata": {
    "collapsed": false
   },
   "outputs": [],
   "source": [
    "print(\"CLICK=0\")\n",
    "sns.jointplot(x=\"adv\", y=\"ppnp\",data=data_2[click==0].loc[:]);"
   ]
  },
  {
   "cell_type": "code",
   "execution_count": null,
   "metadata": {
    "collapsed": false
   },
   "outputs": [],
   "source": [
    "data_3 = data_2[[\"adv\",\"ppnp\",\"y\"]].loc[:]\n",
    "sns.pairplot(data_3, hue=\"y\")"
   ]
  },
  {
   "cell_type": "code",
   "execution_count": null,
   "metadata": {
    "collapsed": false
   },
   "outputs": [],
   "source": [
    "sns.violinplot(x=\"type\", y=\"adv\", hue=\"click?\", data=data_2[:].loc[price<100],\n",
    "               split=True, inner=\"stick\");"
   ]
  },
  {
   "cell_type": "code",
   "execution_count": 93,
   "metadata": {
    "collapsed": false
   },
   "outputs": [
    {
     "name": "stdout",
     "output_type": "stream",
     "text": [
      "57.0\n"
     ]
    }
   ],
   "source": [
    "adv = data_2[\"adv\"].loc[:]\n",
    "print(adv.quantile(q=0.95))"
   ]
  },
  {
   "cell_type": "code",
   "execution_count": null,
   "metadata": {
    "collapsed": false
   },
   "outputs": [],
   "source": [
    "\n",
    "sns.violinplot(x=\"type\", y=\"adv\", hue=\"y\", data=data_2[:].loc[adv<=57],\n",
    "               split=True, inner=\"stick\");"
   ]
  },
  {
   "cell_type": "markdown",
   "metadata": {},
   "source": [
    "That's it for now!"
   ]
  }
 ],
 "metadata": {
  "kernelspec": {
   "display_name": "Python 2",
   "language": "python",
   "name": "python2"
  },
  "language_info": {
   "codemirror_mode": {
    "name": "ipython",
    "version": 2
   },
   "file_extension": ".py",
   "mimetype": "text/x-python",
   "name": "python",
   "nbconvert_exporter": "python",
   "pygments_lexer": "ipython2",
   "version": "2.7.10"
  }
 },
 "nbformat": 4,
 "nbformat_minor": 0
}
