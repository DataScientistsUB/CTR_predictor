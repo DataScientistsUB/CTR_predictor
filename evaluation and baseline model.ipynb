{
 "cells": [
  {
   "cell_type": "markdown",
   "metadata": {},
   "source": [
    "Material adapted from:\n",
    "MOOC \"Scalable Machine Learning\", EdX"
   ]
  },
  {
   "cell_type": "markdown",
   "metadata": {},
   "source": [
    "#EVALUATION FUNCTION AND BASELINE MODEL\n",
    "\n",
    "This notebook has two main goals: choose a baseline model and choose an evaluation function.\n",
    "\n",
    "The process of selecting model and function are explained throughout the notebook. To sum it up:\n",
    "\n",
    "* **Evaluation function** = LogLoss (lower values are better)\n",
    "\n",
    "$$  \\begin{align} \\scriptsize \\ell_{log}(p, y) = \\begin{cases} -\\log (p) & \\text{if } y = 1 \\\\\\ -\\log(1-p) & \\text{if } y = 0 \\end{cases} \\end{align} $$ \n",
    "\n",
    "* **Baseline model chosen** = always predict value 0.06998 (average) instead of most frequent (0): \n",
    "\n",
    "    Baseline Logloss (predicted = 0, calculated by function) = 0.17725\n",
    "    Baseline Logloss (predicted = 0.06998, calculated by function) = 0.04170"
   ]
  },
  {
   "cell_type": "markdown",
   "metadata": {},
   "source": [
    "###IMPORT PACKAGES\n",
    "\n",
    "Let's import packages used in this notebook:"
   ]
  },
  {
   "cell_type": "code",
   "execution_count": 3,
   "metadata": {
    "collapsed": false
   },
   "outputs": [],
   "source": [
    "import pandas as pd\n",
    "import numpy as np\n",
    "from sklearn.metrics import confusion_matrix"
   ]
  },
  {
   "cell_type": "code",
   "execution_count": 4,
   "metadata": {
    "collapsed": true
   },
   "outputs": [],
   "source": [
    "#VISUALIZATION\n",
    "%matplotlib inline\n",
    "import matplotlib.pyplot as plt"
   ]
  },
  {
   "cell_type": "markdown",
   "metadata": {},
   "source": [
    "###IMPORT DATA AND CHOOSE A BASELINE MODEL.\n",
    "\n",
    "*\"A very simple yet natural baseline model is one where we always make the same prediction independent of the given datapoint, setting the predicted value equal to the fraction of training points that correspond to click-through events (i.e., where the label is one). Compute this value (which is simply the mean of the training labels), and then use it to compute the training log loss for the baseline model. The log loss for multiple observations is the mean of the individual log loss values.¶\" *(source: \"Scalable Machine Learning\", EdX)\n",
    "\n",
    "So in order to calculate the predicted value for the baseline model, we will use the known outcome (stored at *\"outcome.csv\"*)\n",
    "\n",
    "So first, we import the file \"outcome.csv\", stored inside a folder named \"DATA\":\n",
    "\n",
    "*\\DATA\\outcome.csv*"
   ]
  },
  {
   "cell_type": "code",
   "execution_count": 5,
   "metadata": {
    "collapsed": false
   },
   "outputs": [
    {
     "name": "stdout",
     "output_type": "stream",
     "text": [
      "['0' '0.1']\n"
     ]
    },
    {
     "data": {
      "text/plain": [
       "array(['0', '0.1'], dtype=object)"
      ]
     },
     "execution_count": 5,
     "metadata": {},
     "output_type": "execute_result"
    }
   ],
   "source": [
    "#Use panda to import csv\n",
    "df = pd.read_csv('DATA/outcome.csv', sep=';')\n",
    "print df.columns.values\n",
    "\n",
    "#Column 0 includes ad_ref. Column 1 refers to outcome (0= no click, 1=click)\n",
    "df.columns.values"
   ]
  },
  {
   "cell_type": "code",
   "execution_count": 6,
   "metadata": {
    "collapsed": false
   },
   "outputs": [
    {
     "name": "stdout",
     "output_type": "stream",
     "text": [
      "1    0\n",
      "2    0\n",
      "3    0\n",
      "4    0\n",
      "Name: 0.1, dtype: int64\n"
     ]
    }
   ],
   "source": [
    "print df[\"0.1\"][1:5]"
   ]
  },
  {
   "cell_type": "markdown",
   "metadata": {},
   "source": [
    "The dataframe \"df\" has two columns. The second one \"0.1\" contains the outcome values (1 = clicked, 0 = not-clicked)."
   ]
  },
  {
   "cell_type": "code",
   "execution_count": 7,
   "metadata": {
    "collapsed": false
   },
   "outputs": [
    {
     "name": "stdout",
     "output_type": "stream",
     "text": [
      "(681313L,)\n"
     ]
    }
   ],
   "source": [
    "print df[\"0.1\"].shape"
   ]
  },
  {
   "cell_type": "markdown",
   "metadata": {},
   "source": [
    "There are 681313 cases. \n",
    "\n",
    "#####Which predicted value to use?\n",
    "\n",
    "We have two options: to use the most frequent value or to use the average value.\n",
    "\n",
    "####A. Baseline predicted value = most frequent \n",
    "Let's check the label values:"
   ]
  },
  {
   "cell_type": "code",
   "execution_count": 8,
   "metadata": {
    "collapsed": false
   },
   "outputs": [
    {
     "data": {
      "image/png": "[encoded data removed]",
      "text/plain": [
       "<matplotlib.figure.Figure at 0x1ed3bcc0>"
      ]
     },
     "metadata": {},
     "output_type": "display_data"
    }
   ],
   "source": [
    "#Let's plot the outcome values to see wich value is more common, 0 (no-click) or 1 (click).\n",
    "\n",
    "plt.hist(df[\"0.1\"])\n",
    "plt.title(\"Click-through-rate\")\n",
    "plt.xlabel(\"Outcome\")\n",
    "plt.ylabel(\"#clicks\")\n",
    "plt.show()"
   ]
  },
  {
   "cell_type": "code",
   "execution_count": 17,
   "metadata": {
    "collapsed": false
   },
   "outputs": [],
   "source": [
    "#Most of values are 0. Baseline will be to predict outcome=0\n",
    "#Let's add a column to df called \"predict\" that will have the predicted value (0)\n",
    "df[\"predict1\"]=0"
   ]
  },
  {
   "cell_type": "markdown",
   "metadata": {},
   "source": [
    "Let's see how this model performs. First the confussion matrix:"
   ]
  },
  {
   "cell_type": "code",
   "execution_count": 18,
   "metadata": {
    "collapsed": false
   },
   "outputs": [
    {
     "data": {
      "text/plain": [
       "array([[676545,      0],\n",
       "       [  4768,      0]])"
      ]
     },
     "execution_count": 18,
     "metadata": {},
     "output_type": "execute_result"
    }
   ],
   "source": [
    "#EVALUATE MODEL\n",
    "#Let's see the confussion matrix:\n",
    "\n",
    "y_pred = df[\"predict1\"]\n",
    "y_true = df[\"0.1\"]\n",
    "\n",
    "'''#print model score\n",
    "print model.score(y_pred,y_true)'''\n",
    "\n",
    "confusion_matrix(y_true, y_pred)"
   ]
  },
  {
   "cell_type": "markdown",
   "metadata": {},
   "source": [
    "And calculate performance metrics (accuracy, sensitivity, specificity...)"
   ]
  },
  {
   "cell_type": "code",
   "execution_count": 15,
   "metadata": {
    "collapsed": false
   },
   "outputs": [
    {
     "name": "stdout",
     "output_type": "stream",
     "text": [
      "BASELINE MODEL SCORE\n",
      "True Positive Rate (Sensitivity):  0.0\n",
      "False Positive Rate: 0.0\n",
      "True Negative Rate (Specificity):  1.0\n",
      "Positive Predictive Value (Precision):  0\n",
      "Negative Predictive Value:  0.993001748095\n",
      "Score (Accuracy):  0.993001748095\n"
     ]
    }
   ],
   "source": [
    "#EVALUATE ACCURACY, SENSITIVITY, SPECIFICITY...\n",
    "\n",
    "TP = 0.\n",
    "TN = 676545.\n",
    "FP = 0.\n",
    "FN = 4768.\n",
    "\n",
    "print \"BASELINE MODEL SCORE\"\n",
    "print \"True Positive Rate (Sensitivity): \",TP/(TP+FN)\n",
    "print \"False Positive Rate:\", FP/(FP+TN)\n",
    "print \"True Negative Rate (Specificity): \",TN/(TN+FP)\n",
    "print \"Positive Predictive Value (Precision): \", 0\n",
    "print \"Negative Predictive Value: \", TN/(FN+TN)\n",
    "print \"Score (Accuracy): \",(TP + TN)/(TP + TN + FP + FN)"
   ]
  },
  {
   "cell_type": "markdown",
   "metadata": {},
   "source": [
    "The accuracy of the baseline model is already of 99.3%. Seems like accuracy is a poor meassure fo quality of model.\n",
    "\n",
    "At click-through-rate competitions usually Submissions are evaluated using the Logarithmic Loss (smaller is better).\n",
    "https://www.kaggle.com/c/avazu-ctr-prediction/details/evaluation\n",
    "\n",
    "Let's keep this idea for later. Once we calculate average baseline model we will choose between both depending on performance scores.\n",
    "\n",
    "#####B. BASELINE PREDICTED VALUE = AVERAGE\n",
    "From now, let's calculate the predicted value in case we used average:\n"
   ]
  },
  {
   "cell_type": "code",
   "execution_count": 21,
   "metadata": {
    "collapsed": false
   },
   "outputs": [
    {
     "name": "stdout",
     "output_type": "stream",
     "text": [
      "The predicted value for the baseline is  0.00699825190478\n"
     ]
    }
   ],
   "source": [
    "#BASELINE PREDICTED VALUE WHILE USING MOST FREQUENT:\n",
    "\n",
    "df[\"predict2\"]=df[\"0.1\"].mean() \n",
    "print \"The predicted value for the baseline is \", df[\"0.1\"].mean() "
   ]
  },
  {
   "cell_type": "markdown",
   "metadata": {},
   "source": [
    "\n",
    "###LOGARITHMIC LOSS TO CALCULATE MODEL PERFORMANCE** (Log loss) **\n",
    "(source: \"Scalable Machine Learning\" MOOC)\n",
    "\n",
    "Log loss is defined as: $$  \\begin{align} \\scriptsize \\ell_{log}(p, y) = \\begin{cases} -\\log (p) & \\text{if } y = 1 \\\\\\ -\\log(1-p) & \\text{if } y = 0 \\end{cases} \\end{align} $$ \n",
    "where $ \\scriptsize p$ is a probability between 0 and 1 and $ \\scriptsize y$ is a label of either 0 or 1. \n",
    "Log loss is a standard evaluation criterion when predicting rare-events such as click-through rate prediction (it is also the criterion used in the [Criteo Kaggle competition](https://www.kaggle.com/c/criteo-display-ad-challenge)).  \n",
    "\n",
    "Problem is, 0 and 1 values don't work well with log. So the trick is to use a \"epsilon\" value (very small) to avoid pure zeros as well as pure 1."
   ]
  },
  {
   "cell_type": "code",
   "execution_count": 28,
   "metadata": {
    "collapsed": false
   },
   "outputs": [
    {
     "name": "stdout",
     "output_type": "stream",
     "text": [
      "Baseline Logloss (predicted = 0, calculated by hand) = 0.17725\n",
      "\n",
      "Baseline Logloss (predicted = 0.00699825190478, calculated by hand) = 0.04170\n",
      "\n",
      "COMMENT:\n",
      "Lower performance values are better.\n",
      "So using the LogLoss function to evaluate performance, we use as baseline model\n",
      "the one that predicts an outcome equal to the average (0.06998)\n"
     ]
    }
   ],
   "source": [
    "'''\n",
    "FUNCTION LOGLOSS AS IMPLEMENTED BY KAGGLE:\n",
    "SOURCE: https://www.kaggle.com/wiki/LogarithmicLoss\n",
    "import scipy as sp\n",
    "def llfun(act, pred):\n",
    "    epsilon = 1e-15\n",
    "    pred = sp.maximum(epsilon, pred)\n",
    "    pred = sp.minimum(1-epsilon, pred)\n",
    "    ll = sum(act*sp.log(pred) + sp.subtract(1,act)*sp.log(sp.subtract(1,pred)))\n",
    "    ll = sum(ll)\n",
    "    ll = ll * -1.0/len(act)\n",
    "    return ll\n",
    "'''\n",
    "\n",
    "'''Implementation of logloss by 4IDIOTS:\n",
    "https://github.com/guestwalk/kaggle-avazu/tree/master/ensemble/util\n",
    "'''    \n",
    "\n",
    "#EPSILON USED: \n",
    "epsilon = 10e-12\n",
    "total = 681313.0\n",
    "\n",
    "#BASELINE CASE, PREDICTED VALUE = 0, computed by hand:\n",
    "#676545 cases in which true value = 0 and predicted = 0 -> loss += 676545*log(1)=0\n",
    "#4768 cases in which true value = 1 and predicted = 0 -> loss += 4768*log(0)\n",
    "#TOTAL of 681313\n",
    "\n",
    "import scipy as sp\n",
    "\n",
    "\n",
    "loss1 = 676545.0*sp.log(1.0-epsilon)+4768.0*sp.log(0.0+epsilon)\n",
    "LogLoss1 =(round(-loss1/total, 6))\n",
    "print 'Baseline Logloss (predicted = 0, calculated by hand) = {0:.5f}\\n'.format(LogLoss1)\n",
    "\n",
    "#BASELINE CASE, PREDICTED VALUE = 0.00699825190478, computed by hand:\n",
    "#676545 cases in which true value = 0 and predicted = 0.00699825190478 \n",
    "#-> loss += 676545*log(1-0.00699825190478)=0\n",
    "#4768 cases in which true value = 1 and predicted = 0.00699825190478 \n",
    "#-> loss += 4768*log(0.00699825190478)\n",
    "#TOTAL of 681313\n",
    "\n",
    "loss2 = 676545.0*sp.log(1.0-0.00699825190478)+4768.0*sp.log(0.0+0.00699825190478)\n",
    "LogLoss2 =(round(-loss2/total, 6))\n",
    "print 'Baseline Logloss (predicted = 0.00699825190478, calculated by hand) = {0:.5f}\\n'.format(LogLoss2)\n",
    "\n",
    "#Using the Logloss function, lower values are better\n",
    "print \"COMMENT:\"\n",
    "print \"Lower performance values are better.\"\n",
    "print \"So using the LogLoss function to evaluate performance, we use as baseline model\"\n",
    "print \"the one that predicts an outcome equal to the average (0.06998)\""
   ]
  },
  {
   "cell_type": "markdown",
   "metadata": {},
   "source": [
    "Now we are going to code the logloss as a function.\n",
    "\n",
    "Function *computeTotalLogLoss(pred, true, epsylon)*\n",
    "\n",
    "Parameters:\n",
    "\n",
    "pred - predicted value\n",
    "\n",
    "true - true outcome/value\n",
    "\n",
    "epsylon - value used to avoid pure zeros/ones. By default, epsilon = 10e-12"
   ]
  },
  {
   "cell_type": "code",
   "execution_count": 31,
   "metadata": {
    "collapsed": false
   },
   "outputs": [
    {
     "name": "stdout",
     "output_type": "stream",
     "text": [
      "Baseline Logloss (predicted = 0, calculated by function) = 0.17725\n",
      "\n",
      "Baseline Logloss (predicted = 0.06998, calculated by function) = 0.04170\n",
      "\n",
      "Performance scores match the ones calculated by hand.\n"
     ]
    }
   ],
   "source": [
    "#Let's implement it in python:\n",
    "#First, the part where we calculate loss from p,y:\n",
    "import scipy as sp\n",
    "\n",
    "def computeLogLoss(p, y, epsylon=10e-12):\n",
    "    \"\"\"\n",
    "    Source: \"Scalable Machine Learning\", EdX\n",
    "    Calculates the value of log loss for a given probabilty and label.\n",
    "\n",
    "    Note:\n",
    "        log(0) is undefined, so when p is 0 we need to add a small value (epsilon) to it\n",
    "        and when p is 1 we need to subtract a small value (epsilon) from it.\n",
    "\n",
    "    Args:\n",
    "        p (float): A probabilty between 0 and 1.\n",
    "        y (int): A label.  Takes on the values 0 and 1.\n",
    "\n",
    "    Returns:\n",
    "        float: The log loss value.\n",
    "    \"\"\"\n",
    "\n",
    "    if p == 0.0: p = epsilon\n",
    "    if p == 1.0: p = 1.0-epsilon\n",
    "    \n",
    "    if y == 1: loss = -sp.log(p)\n",
    "    if y == 0: loss = -sp.log(1.0-p)\n",
    "    \n",
    "    return loss\n",
    "\n",
    "def computeTotalLogLoss(pred,true, epsilon=10e-12):\n",
    "\n",
    "    loss, total = 0.0, 0.0\n",
    "    for i in range(0,len(pred)):\n",
    "        loss += computeLogLoss(pred[i],true[i], epsilon)\n",
    "        total += 1.0\n",
    "\n",
    "    if total == 0:\n",
    "        return('nan')\n",
    "    else:\n",
    "        return(round(loss/total, 10))\n",
    "\n",
    "#BASELINE CASE: COMPUTED USING FUNCTIONS\n",
    "#Let's compute our baseline model logarithmic loss:\n",
    "\n",
    "#a) predicted = 0\n",
    "y_true = df[\"0.1\"]\n",
    "y_pred1 = df[\"predict1\"]\n",
    "\n",
    "epsilon = 10e-12\n",
    "ModelLoss = computeTotalLogLoss(y_pred1, y_true, epsilon)\n",
    "print 'Baseline Logloss (predicted = 0, calculated by function) = {0:.5f}\\n'.format(ModelLoss)\n",
    "\n",
    "#a) predicted = 0\n",
    "y_true = df[\"0.1\"]\n",
    "y_pred2 = df[\"predict2\"]\n",
    "\n",
    "epsilon = 10e-12\n",
    "ModelLoss = computeTotalLogLoss(y_pred2, y_true, epsilon)\n",
    "print 'Baseline Logloss (predicted = 0.06998, calculated by function) = {0:.5f}\\n'.format(ModelLoss)\n",
    "\n",
    "print \"Performance scores match the ones calculated by hand.\""
   ]
  }
 ],
 "metadata": {
  "kernelspec": {
   "display_name": "Python 2",
   "language": "python",
   "name": "python2"
  },
  "language_info": {
   "codemirror_mode": {
    "name": "ipython",
    "version": 2
   },
   "file_extension": ".py",
   "mimetype": "text/x-python",
   "name": "python",
   "nbconvert_exporter": "python",
   "pygments_lexer": "ipython2",
   "version": "2.7.10"
  }
 },
 "nbformat": 4,
 "nbformat_minor": 0
}
